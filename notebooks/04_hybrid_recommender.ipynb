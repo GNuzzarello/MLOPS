{
 "cells": [
  {
   "cell_type": "code",
   "execution_count": 27,
   "id": "8d796cad",
   "metadata": {},
   "outputs": [],
   "source": [
    "import pandas as pd\n",
    "import pickle\n",
    "import numpy as np\n",
    "from scipy.sparse import coo_matrix\n",
    "import os\n",
    "from sklearn.metrics.pairwise import cosine_similarity\n",
    "from tqdm import tqdm"
   ]
  },
  {
   "cell_type": "code",
   "execution_count": 3,
   "id": "e59c975f",
   "metadata": {},
   "outputs": [],
   "source": [
    "users = pd.read_csv('../data/users.csv')\n",
    "games =  pd.read_parquet('../data/cleaned/games_cleaned.parquet')\n",
    "test_df = pd.read_parquet('../data/cleaned/test_recommendations.parquet')\n",
    "train_df = pd.read_parquet('../data/cleaned/train_recommendations.parquet')"
   ]
  },
  {
   "cell_type": "code",
   "execution_count": 4,
   "id": "5666516b",
   "metadata": {},
   "outputs": [],
   "source": [
    "unique_users = train_df['user_id'].unique()\n",
    "unique_items = games['app_id'].unique()\n",
    "\n",
    "user_to_idx = {uid: idx for idx, uid in enumerate(unique_users)}\n",
    "item_to_idx = {iid: idx for idx, iid in enumerate(unique_items)}\n",
    "idx_to_user = {idx: uid for uid, idx in user_to_idx.items()}\n",
    "idx_to_item = {idx: iid for iid, idx in item_to_idx.items()}\n"
   ]
  },
  {
   "cell_type": "code",
   "execution_count": 5,
   "id": "9b6872d8",
   "metadata": {},
   "outputs": [],
   "source": [
    "model = pickle.load(open('../models/als_model.pkl', 'rb'))\n",
    "interaction_matrix = pickle.load(open('../models/interaction_matrix.pkl', 'rb'))\n",
    "tfidf_matrix = pickle.load(open('../models/tfidf_matrix.pkl', 'rb'))"
   ]
  },
  {
   "cell_type": "code",
   "execution_count": 35,
   "id": "1ec0b306",
   "metadata": {},
   "outputs": [
    {
     "name": "stdout",
     "output_type": "stream",
     "text": [
      "Item ID: 431960, Score: 0.7049\n",
      "Item ID: 105600, Score: 0.6640\n",
      "Item ID: 262060, Score: 0.5765\n",
      "Item ID: 570, Score: 0.5652\n",
      "Item ID: 242760, Score: 0.5574\n",
      "Item ID: 1172470, Score: 0.5185\n",
      "Item ID: 367520, Score: 0.5102\n",
      "Item ID: 374320, Score: 0.5035\n",
      "Item ID: 814380, Score: 0.4990\n",
      "Item ID: 49520, Score: 0.4566\n"
     ]
    }
   ],
   "source": [
    "def get_collaborative_recommendations_for_user(user_id, N=10, filter_already_recommended=True):\n",
    "    # Verifica se l'user_id esiste nel dizionario\n",
    "    if user_id not in user_to_idx:\n",
    "        return []\n",
    "    \n",
    "    # Ottieni l'indice dell'utente\n",
    "    user_idx = user_to_idx[user_id]\n",
    "    \n",
    "    # Genera le raccomandazioni (item_idx, score)\n",
    "    recommended_items = model.recommend(user_idx, interaction_matrix[user_idx], N=N)\n",
    "    \n",
    "    if not filter_already_recommended:\n",
    "        # Se non vogliamo filtrare gli articoli già visti, restituiamo direttamente\n",
    "        return [(idx_to_item[idx], score) for idx, score in recommended_items]\n",
    "    \n",
    "    # Filtra gli articoli già visti dall'utente\n",
    "    recommended_items_filtered = []\n",
    "    for idx, score in zip(recommended_items[0], recommended_items[1]):\n",
    "        # Controlla se l'articolo è già stato visto dall'utente (se è già nella matrice di interazione)\n",
    "        if interaction_matrix[user_idx, idx] == 0:  # 0 significa che l'utente non ha interagito\n",
    "            recommended_items_filtered.append((idx_to_item[idx], score))\n",
    "    \n",
    "    # Ordina per punteggio (in ordine decrescente)\n",
    "    recommended_items_filtered = sorted(recommended_items_filtered, key=lambda x: x[1], reverse=True)\n",
    "    \n",
    "    return recommended_items_filtered\n",
    "\n",
    "# Test the recommendation function\n",
    "user_id = 12584260\n",
    "recommended_items = get_collaborative_recommendations_for_user(user_id, N=10)\n",
    "for item, score in recommended_items:\n",
    "    print(f\"Item ID: {item}, Score: {score:.4f}\")"
   ]
  },
  {
   "cell_type": "code",
   "execution_count": 10,
   "id": "666d64a7",
   "metadata": {},
   "outputs": [
    {
     "name": "stdout",
     "output_type": "stream",
     "text": [
      "Game being considered: Soccer Manager 2020\n",
      "Recommended games:\n",
      "- Pro 11 - Football Manager Game\n",
      "- Soccer Manager 2021\n",
      "- WE ARE FOOTBALL\n",
      "- New Star Manager\n",
      "- Soccer Manager 2022\n",
      "- Football Manager 2023\n",
      "- Futuball - Future Football Manager Game\n",
      "- Club Manager 2016\n",
      "- Football Manager 2020 In-game Editor\n",
      "- Crazy Soccer: Football Stars\n"
     ]
    }
   ],
   "source": [
    "def recommend_content_based(game_id, N=10):\n",
    "    \n",
    "    game_idx = item_to_idx[game_id]\n",
    "    \n",
    "    # Estrai il vettore del gioco per cui vogliamo le raccomandazioni\n",
    "    game_vector = tfidf_matrix[game_idx]\n",
    "    \n",
    "    # Calcola la similarità coseno tra il vettore del gioco richiesto e tutti gli altri\n",
    "    similarity_scores = cosine_similarity(game_vector.reshape(1, -1), tfidf_matrix)[0]\n",
    "    \n",
    "    # Ordina i giochi per similarità decrescente\n",
    "    similar_indices = similarity_scores.argsort()[::-1][1:N+1]  # Ignora il gioco stesso\n",
    "    \n",
    "    # Ottieni gli app_id dei giochi più simili e le loro distanze (similarità)\n",
    "    recommended_game_ids = games['app_id'].iloc[similar_indices].tolist()\n",
    "    recommended_distances = similarity_scores[similar_indices].tolist()\n",
    "    \n",
    "    return recommended_game_ids, recommended_distances\n",
    "\n",
    "\n",
    "# Ora fuori dalla funzione, otteniamo i nomi dei giochi:\n",
    "current_game_name = games[games['app_id'] == 1078730]['title'].values[0]\n",
    "recommended_games, recommended_distances = recommend_content_based(1078730, N=10)\n",
    "# Ottieni i nomi dei giochi raccomandati\n",
    "recommended_game_names = games[games['app_id'].isin(recommended_games)]['title'].tolist()\n",
    "\n",
    "# Stampa il risultato\n",
    "print(f\"Game being considered: {current_game_name}\")\n",
    "print(\"Recommended games:\")\n",
    "for game in recommended_game_names:\n",
    "    print(f\"- {game}\")"
   ]
  },
  {
   "cell_type": "code",
   "execution_count": 72,
   "id": "59f8e206",
   "metadata": {},
   "outputs": [],
   "source": [
    "content_train_dataset = train_df.copy()\n",
    "content_inference_dataset = pd.concat([train_df, test_df])"
   ]
  },
  {
   "cell_type": "code",
   "execution_count": 73,
   "id": "b4ee0fdf",
   "metadata": {},
   "outputs": [],
   "source": [
    "def get_content_recommendations_for_user(user_id, N=10, mode='train'):\n",
    "    recommended_games_dict = {}\n",
    "    # Itera su tutti i giochi con cui l'utente ha interagito\n",
    "    if mode == 'train':\n",
    "        dataset = content_train_dataset\n",
    "    elif mode == 'inference':\n",
    "        dataset = content_inference_dataset\n",
    "    else:\n",
    "        raise ValueError(\"Invalid mode. Use 'train' or 'inference'.\")\n",
    "    for game_id in dataset[dataset['user_id'] == user_id]['app_id']:\n",
    "        # Ottieni le raccomandazioni per il gioco corrente\n",
    "        recommended_games, recommended_similarity = recommend_content_based(game_id, N=10)\n",
    "        \n",
    "        # Aggiungi le raccomandazioni al dizionario, escludendo il gioco stesso\n",
    "        for rec_game_id, similarity in zip(recommended_games, recommended_similarity):\n",
    "            if rec_game_id != game_id:  # Escludi il gioco stesso\n",
    "                if rec_game_id not in recommended_games_dict:\n",
    "                    recommended_games_dict[rec_game_id] = similarity\n",
    "                else:\n",
    "                    # Mantieni solo la similarità più alta per ogni gioco\n",
    "                    recommended_games_dict[rec_game_id] = max(recommended_games_dict[rec_game_id], similarity)\n",
    "\n",
    "    # Ordina i giochi in base alla similarità e prendi i primi N\n",
    "    sorted_recommendations = sorted(recommended_games_dict.items(), key=lambda x: x[1], reverse=True)\n",
    "\n",
    "    # Torna i primi N giochi distinti\n",
    "    top_n_games = sorted_recommendations[:N]\n",
    "    \n",
    "    return top_n_games\n",
    "\n",
    "\n",
    "# Test the recommendation function\n",
    "user_id = 2212396\n",
    "recommended_items = get_content_recommendations_for_user(user_id, N=10, mode='train')\n",
    "for item, score in recommended_items:\n",
    "    print(f\"Item ID: {item}, Score: {score:.4f}\")"
   ]
  },
  {
   "cell_type": "code",
   "execution_count": 70,
   "id": "46427ffc",
   "metadata": {},
   "outputs": [],
   "source": [
    "def get_weighted_recommendations(collaborative_recommendations, content_recommendations, N=10):\n",
    "\n",
    "    collaborative_weight = 0.6\n",
    "    content_weight = 0.4\n",
    "\n",
    "    # Re-weigh the scores\n",
    "    weighted_recommendations = {}\n",
    "    for collaborative_item, collaborative_score in collaborative_recommendations:\n",
    "        weighted_recommendations[collaborative_item] = collaborative_score * collaborative_weight\n",
    "    for content_item, content_score in content_recommendations:\n",
    "        if content_item in weighted_recommendations:\n",
    "            weighted_recommendations[content_item] += content_score * content_weight\n",
    "        else:\n",
    "            weighted_recommendations[content_item] = content_score * content_weight\n",
    "\n",
    "    # Sort by score\n",
    "    sorted_weighted_recommendations = sorted(weighted_recommendations.items(), key=lambda x: x[1], reverse=True)\n",
    "    return sorted_weighted_recommendations[:N]\n",
    "\n"
   ]
  },
  {
   "cell_type": "code",
   "execution_count": 63,
   "id": "a3b016af",
   "metadata": {},
   "outputs": [
    {
     "name": "stdout",
     "output_type": "stream",
     "text": [
      "Collaborative Recommendations:\n",
      "Item ID: 431960, Score: 0.7049\n",
      "Item ID: 105600, Score: 0.6640\n",
      "Item ID: 262060, Score: 0.5765\n",
      "Item ID: 570, Score: 0.5652\n",
      "Item ID: 242760, Score: 0.5574\n",
      "Item ID: 1172470, Score: 0.5185\n",
      "Item ID: 367520, Score: 0.5102\n",
      "Item ID: 374320, Score: 0.5035\n",
      "Item ID: 814380, Score: 0.4990\n",
      "Item ID: 49520, Score: 0.4566\n",
      "\n",
      "Content Recommendations:\n",
      "Item ID: 219740, Score: 1.0000\n",
      "Item ID: 1238810, Score: 1.0000\n",
      "Item ID: 1233220, Score: 0.9094\n",
      "Item ID: 1752910, Score: 0.8515\n",
      "Item ID: 457840, Score: 0.8415\n",
      "Item ID: 1237980, Score: 0.8392\n",
      "Item ID: 1238762, Score: 0.8249\n",
      "Item ID: 665380, Score: 0.8113\n",
      "Item ID: 457841, Score: 0.7943\n",
      "Item ID: 417461, Score: 0.7824\n",
      "\n",
      "Weighted Recommendations:\n",
      "Item ID: 431960, Score: 0.4230\n",
      "Item ID: 219740, Score: 0.4000\n",
      "Item ID: 1238810, Score: 0.4000\n",
      "Item ID: 105600, Score: 0.3984\n",
      "Item ID: 1233220, Score: 0.3638\n",
      "Item ID: 262060, Score: 0.3459\n",
      "Item ID: 1752910, Score: 0.3406\n",
      "Item ID: 570, Score: 0.3391\n",
      "Item ID: 457840, Score: 0.3366\n",
      "Item ID: 1237980, Score: 0.3357\n"
     ]
    }
   ],
   "source": [
    "def get_recommendations(user_id, mode='train', N=10):\n",
    "\n",
    "    collaborative_recommendations = get_collaborative_recommendations_for_user(user_id, N=N)\n",
    "    content_recommendations = get_content_recommendations_for_user(user_id, N=N, mode=mode)\n",
    "\n",
    "    return collaborative_recommendations, content_recommendations\n",
    "\n",
    "\n",
    "# Test the recommendation function\n",
    "user_id = 12584260\n",
    "collaborative_recommendations, content_recommendations = get_recommendations(user_id)\n",
    "weighted_recommendations = get_weighted_recommendations(collaborative_recommendations,content_recommendations, N=10)\n",
    "print(\"Collaborative Recommendations:\")\n",
    "for item, score in collaborative_recommendations:\n",
    "    print(f\"Item ID: {item}, Score: {score:.4f}\")\n",
    "print(\"\\nContent Recommendations:\")\n",
    "for item, score in content_recommendations:\n",
    "    print(f\"Item ID: {item}, Score: {score:.4f}\")\n",
    "\n",
    "print(\"\\nWeighted Recommendations:\")\n",
    "for item, score in weighted_recommendations:\n",
    "    print(f\"Item ID: {item}, Score: {score:.4f}\")\n",
    "\n",
    "\n"
   ]
  },
  {
   "cell_type": "code",
   "execution_count": 64,
   "id": "20dfd425",
   "metadata": {},
   "outputs": [],
   "source": [
    "# Ottieni gli utenti presenti nel test set e nel train set come set per una ricerca più veloce\n",
    "test_users_set = set(test_df['user_id'].unique())\n",
    "train_users_set = set(train_df['user_id'].unique())"
   ]
  },
  {
   "cell_type": "code",
   "execution_count": 65,
   "id": "2b802a53",
   "metadata": {},
   "outputs": [],
   "source": [
    "known_users = list(test_users_set & train_users_set)  # Intersezione come lista\n",
    "cold_start_users = list(test_users_set - train_users_set)"
   ]
  },
  {
   "cell_type": "code",
   "execution_count": 66,
   "id": "39d9c7cd",
   "metadata": {},
   "outputs": [
    {
     "name": "stdout",
     "output_type": "stream",
     "text": [
      "Utenti noti con almeno 10 righe nel test set: 15029\n"
     ]
    }
   ],
   "source": [
    "# Conta il numero di righe per ogni user_id nel test set\n",
    "user_counts = test_df.groupby('user_id').size()\n",
    "\n",
    "# Filtra gli utenti che hanno almeno 10 righe\n",
    "known_users_filtered = [user_id for user_id in known_users if user_counts[user_id] >= 10]\n",
    "\n",
    "# Stampa gli utenti filtrati\n",
    "print(f\"Utenti noti con almeno 10 righe nel test set: {len(known_users_filtered)}\")\n"
   ]
  },
  {
   "cell_type": "code",
   "execution_count": 67,
   "id": "f4c06a0d",
   "metadata": {},
   "outputs": [
    {
     "name": "stdout",
     "output_type": "stream",
     "text": [
      "Precisione per l'utente 22: 0.0\n",
      "Recall per l'utente 22: 0.0\n",
      "F1-Score per l'utente 22: 0\n",
      "Hit Ratio per l'utente 22: 0\n"
     ]
    }
   ],
   "source": [
    "import numpy as np\n",
    "\n",
    "# Funzione per calcolare la precisione\n",
    "def calculate_precision(user_id, recommended_items, test_df):\n",
    "    # Ottieni gli articoli effettivi con cui l'utente ha interagito nel test set (dove is_recommended == 1)\n",
    "    actual_items = test_df[(test_df['user_id'] == user_id) & (test_df['is_recommended'] == 1)]['app_id']\n",
    "    \n",
    "    # Confronta gli articoli raccomandati con quelli effettivi\n",
    "    recommended_item_ids = [item[0] for item in recommended_items]\n",
    "    \n",
    "    # Calcola la precisione come frazione di articoli raccomandati che sono effettivamente rilevanti\n",
    "    relevant_recommendations = sum(1 for item in recommended_item_ids if item in actual_items.values)\n",
    "    precision = relevant_recommendations / len(recommended_item_ids) if len(recommended_item_ids) > 0 else 0\n",
    "    \n",
    "    return precision\n",
    "\n",
    "# Funzione per calcolare il recall\n",
    "def calculate_recall(user_id, recommended_items, test_df):\n",
    "    # Ottieni gli articoli effettivi con cui l'utente ha interagito nel test set (dove is_recommended == 1)\n",
    "    actual_items = test_df[(test_df['user_id'] == user_id) & (test_df['is_recommended'] == 1)]['app_id']\n",
    "    \n",
    "    # Confronta gli articoli raccomandati con quelli effettivi\n",
    "    recommended_item_ids = [item[0] for item in recommended_items]\n",
    "    \n",
    "    # Calcola il recall come frazione di articoli rilevanti che sono stati raccomandati\n",
    "    relevant_recommendations = sum(1 for item in recommended_item_ids if item in actual_items.values)\n",
    "    recall = relevant_recommendations / len(actual_items) if len(actual_items) > 0 else 0\n",
    "    \n",
    "    return recall\n",
    "\n",
    "# Funzione per calcolare il F1-Score\n",
    "def calculate_f1_score(user_id, recommended_items, test_df):\n",
    "    precision = calculate_precision(user_id, recommended_items, test_df)\n",
    "    recall = calculate_recall(user_id, recommended_items, test_df)\n",
    "    \n",
    "    if precision + recall == 0:\n",
    "        return 0\n",
    "    return 2 * (precision * recall) / (precision + recall)\n",
    "\n",
    "def calculate_hit_ratio(user_id, recommended_items, test_df, N=10):\n",
    "    actual_items = test_df[(test_df['user_id'] == user_id) & (test_df['is_recommended'] == 1)]['app_id']\n",
    "    recommended_item_ids = [item[0] for item in recommended_items][:N]  # Limita alle prime N raccomandazioni\n",
    "    hit = 1 if any(item in actual_items.values for item in recommended_item_ids) else 0\n",
    "    return hit\n",
    "\n",
    "user_id = 22  # esempio di user_id nel test set\n",
    "recommended_items = get_recommendations(user_id)\n",
    "weighted_recommendations = get_weighted_recommendations(recommended_items[0], recommended_items[1], N=10)\n",
    "\n",
    "# Calcola la precisione, recall e F1-Score\n",
    "precision = calculate_precision(user_id, weighted_recommendations, test_df)\n",
    "recall = calculate_recall(user_id, weighted_recommendations, test_df)\n",
    "f1 = calculate_f1_score(user_id, weighted_recommendations, test_df)\n",
    "hit = calculate_hit_ratio(user_id, weighted_recommendations, test_df)\n",
    "\n",
    "# Stampa i risultati\n",
    "print(f\"Precisione per l'utente {user_id}: {precision}\")\n",
    "print(f\"Recall per l'utente {user_id}: {recall}\")\n",
    "print(f\"F1-Score per l'utente {user_id}: {f1}\")\n",
    "print(f\"Hit Ratio per l'utente {user_id}: {hit}\")\n"
   ]
  },
  {
   "cell_type": "code",
   "execution_count": 68,
   "id": "bba0d74b",
   "metadata": {},
   "outputs": [
    {
     "name": "stderr",
     "output_type": "stream",
     "text": [
      " 47%|████▋     | 47/100 [00:37<00:42,  1.26it/s]\n"
     ]
    },
    {
     "ename": "KeyboardInterrupt",
     "evalue": "",
     "output_type": "error",
     "traceback": [
      "\u001b[0;31m---------------------------------------------------------------------------\u001b[0m",
      "\u001b[0;31mKeyboardInterrupt\u001b[0m                         Traceback (most recent call last)",
      "Cell \u001b[0;32mIn[68], line 3\u001b[0m\n\u001b[1;32m      1\u001b[0m known_user_metrics \u001b[38;5;241m=\u001b[39m []\n\u001b[1;32m      2\u001b[0m \u001b[38;5;28;01mfor\u001b[39;00m user_id \u001b[38;5;129;01min\u001b[39;00m tqdm(known_users_filtered[\u001b[38;5;241m0\u001b[39m:\u001b[38;5;241m100\u001b[39m]):\n\u001b[0;32m----> 3\u001b[0m     recommended_items \u001b[38;5;241m=\u001b[39m get_weighted_recommendations(\u001b[38;5;241m*\u001b[39m\u001b[43mget_recommendations\u001b[49m\u001b[43m(\u001b[49m\u001b[43muser_id\u001b[49m\u001b[43m)\u001b[49m, N\u001b[38;5;241m=\u001b[39m\u001b[38;5;241m10\u001b[39m)\n\u001b[1;32m      4\u001b[0m     precision \u001b[38;5;241m=\u001b[39m calculate_precision(user_id, recommended_items, test_df)\n\u001b[1;32m      5\u001b[0m     recall \u001b[38;5;241m=\u001b[39m calculate_recall(user_id, recommended_items, test_df)\n",
      "Cell \u001b[0;32mIn[63], line 4\u001b[0m, in \u001b[0;36mget_recommendations\u001b[0;34m(user_id, mode, N)\u001b[0m\n\u001b[1;32m      1\u001b[0m \u001b[38;5;28;01mdef\u001b[39;00m\u001b[38;5;250m \u001b[39m\u001b[38;5;21mget_recommendations\u001b[39m(user_id, mode\u001b[38;5;241m=\u001b[39m\u001b[38;5;124m'\u001b[39m\u001b[38;5;124mtrain\u001b[39m\u001b[38;5;124m'\u001b[39m, N\u001b[38;5;241m=\u001b[39m\u001b[38;5;241m10\u001b[39m):\n\u001b[1;32m      3\u001b[0m     collaborative_recommendations \u001b[38;5;241m=\u001b[39m get_collaborative_recommendations_for_user(user_id, N\u001b[38;5;241m=\u001b[39mN)\n\u001b[0;32m----> 4\u001b[0m     content_recommendations \u001b[38;5;241m=\u001b[39m \u001b[43mget_content_recommendations_for_user\u001b[49m\u001b[43m(\u001b[49m\u001b[43muser_id\u001b[49m\u001b[43m,\u001b[49m\u001b[43m \u001b[49m\u001b[43mN\u001b[49m\u001b[38;5;241;43m=\u001b[39;49m\u001b[43mN\u001b[49m\u001b[43m,\u001b[49m\u001b[43m \u001b[49m\u001b[43mmode\u001b[49m\u001b[38;5;241;43m=\u001b[39;49m\u001b[43mmode\u001b[49m\u001b[43m)\u001b[49m\n\u001b[1;32m      6\u001b[0m     \u001b[38;5;28;01mreturn\u001b[39;00m collaborative_recommendations, content_recommendations\n",
      "Cell \u001b[0;32mIn[61], line 12\u001b[0m, in \u001b[0;36mget_content_recommendations_for_user\u001b[0;34m(user_id, N, mode)\u001b[0m\n\u001b[1;32m      9\u001b[0m     \u001b[38;5;28;01mraise\u001b[39;00m \u001b[38;5;167;01mValueError\u001b[39;00m(\u001b[38;5;124m\"\u001b[39m\u001b[38;5;124mInvalid mode. Use \u001b[39m\u001b[38;5;124m'\u001b[39m\u001b[38;5;124mtrain\u001b[39m\u001b[38;5;124m'\u001b[39m\u001b[38;5;124m or \u001b[39m\u001b[38;5;124m'\u001b[39m\u001b[38;5;124minference\u001b[39m\u001b[38;5;124m'\u001b[39m\u001b[38;5;124m.\u001b[39m\u001b[38;5;124m\"\u001b[39m)\n\u001b[1;32m     10\u001b[0m \u001b[38;5;28;01mfor\u001b[39;00m game_id \u001b[38;5;129;01min\u001b[39;00m dataset[dataset[\u001b[38;5;124m'\u001b[39m\u001b[38;5;124muser_id\u001b[39m\u001b[38;5;124m'\u001b[39m] \u001b[38;5;241m==\u001b[39m user_id][\u001b[38;5;124m'\u001b[39m\u001b[38;5;124mapp_id\u001b[39m\u001b[38;5;124m'\u001b[39m]:\n\u001b[1;32m     11\u001b[0m     \u001b[38;5;66;03m# Ottieni le raccomandazioni per il gioco corrente\u001b[39;00m\n\u001b[0;32m---> 12\u001b[0m     recommended_games, recommended_similarity \u001b[38;5;241m=\u001b[39m \u001b[43mrecommend_content_based\u001b[49m\u001b[43m(\u001b[49m\u001b[43mgame_id\u001b[49m\u001b[43m,\u001b[49m\u001b[43m \u001b[49m\u001b[43mN\u001b[49m\u001b[38;5;241;43m=\u001b[39;49m\u001b[38;5;241;43m10\u001b[39;49m\u001b[43m)\u001b[49m\n\u001b[1;32m     14\u001b[0m     \u001b[38;5;66;03m# Aggiungi le raccomandazioni al dizionario, escludendo il gioco stesso\u001b[39;00m\n\u001b[1;32m     15\u001b[0m     \u001b[38;5;28;01mfor\u001b[39;00m rec_game_id, similarity \u001b[38;5;129;01min\u001b[39;00m \u001b[38;5;28mzip\u001b[39m(recommended_games, recommended_similarity):\n",
      "Cell \u001b[0;32mIn[10], line 9\u001b[0m, in \u001b[0;36mrecommend_content_based\u001b[0;34m(game_id, N)\u001b[0m\n\u001b[1;32m      6\u001b[0m game_vector \u001b[38;5;241m=\u001b[39m tfidf_matrix[game_idx]\n\u001b[1;32m      8\u001b[0m \u001b[38;5;66;03m# Calcola la similarità coseno tra il vettore del gioco richiesto e tutti gli altri\u001b[39;00m\n\u001b[0;32m----> 9\u001b[0m similarity_scores \u001b[38;5;241m=\u001b[39m \u001b[43mcosine_similarity\u001b[49m\u001b[43m(\u001b[49m\u001b[43mgame_vector\u001b[49m\u001b[38;5;241;43m.\u001b[39;49m\u001b[43mreshape\u001b[49m\u001b[43m(\u001b[49m\u001b[38;5;241;43m1\u001b[39;49m\u001b[43m,\u001b[49m\u001b[43m \u001b[49m\u001b[38;5;241;43m-\u001b[39;49m\u001b[38;5;241;43m1\u001b[39;49m\u001b[43m)\u001b[49m\u001b[43m,\u001b[49m\u001b[43m \u001b[49m\u001b[43mtfidf_matrix\u001b[49m\u001b[43m)\u001b[49m[\u001b[38;5;241m0\u001b[39m]\n\u001b[1;32m     11\u001b[0m \u001b[38;5;66;03m# Ordina i giochi per similarità decrescente\u001b[39;00m\n\u001b[1;32m     12\u001b[0m similar_indices \u001b[38;5;241m=\u001b[39m similarity_scores\u001b[38;5;241m.\u001b[39margsort()[::\u001b[38;5;241m-\u001b[39m\u001b[38;5;241m1\u001b[39m][\u001b[38;5;241m1\u001b[39m:N\u001b[38;5;241m+\u001b[39m\u001b[38;5;241m1\u001b[39m]  \u001b[38;5;66;03m# Ignora il gioco stesso\u001b[39;00m\n",
      "File \u001b[0;32m~/Documents/MLProjects/MLOps/myenv/lib/python3.9/site-packages/sklearn/utils/_param_validation.py:211\u001b[0m, in \u001b[0;36mvalidate_params.<locals>.decorator.<locals>.wrapper\u001b[0;34m(*args, **kwargs)\u001b[0m\n\u001b[1;32m    205\u001b[0m \u001b[38;5;28;01mtry\u001b[39;00m:\n\u001b[1;32m    206\u001b[0m     \u001b[38;5;28;01mwith\u001b[39;00m config_context(\n\u001b[1;32m    207\u001b[0m         skip_parameter_validation\u001b[38;5;241m=\u001b[39m(\n\u001b[1;32m    208\u001b[0m             prefer_skip_nested_validation \u001b[38;5;129;01mor\u001b[39;00m global_skip_validation\n\u001b[1;32m    209\u001b[0m         )\n\u001b[1;32m    210\u001b[0m     ):\n\u001b[0;32m--> 211\u001b[0m         \u001b[38;5;28;01mreturn\u001b[39;00m \u001b[43mfunc\u001b[49m\u001b[43m(\u001b[49m\u001b[38;5;241;43m*\u001b[39;49m\u001b[43margs\u001b[49m\u001b[43m,\u001b[49m\u001b[43m \u001b[49m\u001b[38;5;241;43m*\u001b[39;49m\u001b[38;5;241;43m*\u001b[39;49m\u001b[43mkwargs\u001b[49m\u001b[43m)\u001b[49m\n\u001b[1;32m    212\u001b[0m \u001b[38;5;28;01mexcept\u001b[39;00m InvalidParameterError \u001b[38;5;28;01mas\u001b[39;00m e:\n\u001b[1;32m    213\u001b[0m     \u001b[38;5;66;03m# When the function is just a wrapper around an estimator, we allow\u001b[39;00m\n\u001b[1;32m    214\u001b[0m     \u001b[38;5;66;03m# the function to delegate validation to the estimator, but we replace\u001b[39;00m\n\u001b[1;32m    215\u001b[0m     \u001b[38;5;66;03m# the name of the estimator by the name of the function in the error\u001b[39;00m\n\u001b[1;32m    216\u001b[0m     \u001b[38;5;66;03m# message to avoid confusion.\u001b[39;00m\n\u001b[1;32m    217\u001b[0m     msg \u001b[38;5;241m=\u001b[39m re\u001b[38;5;241m.\u001b[39msub(\n\u001b[1;32m    218\u001b[0m         \u001b[38;5;124mr\u001b[39m\u001b[38;5;124m\"\u001b[39m\u001b[38;5;124mparameter of \u001b[39m\u001b[38;5;124m\\\u001b[39m\u001b[38;5;124mw+ must be\u001b[39m\u001b[38;5;124m\"\u001b[39m,\n\u001b[1;32m    219\u001b[0m         \u001b[38;5;124mf\u001b[39m\u001b[38;5;124m\"\u001b[39m\u001b[38;5;124mparameter of \u001b[39m\u001b[38;5;132;01m{\u001b[39;00mfunc\u001b[38;5;241m.\u001b[39m\u001b[38;5;18m__qualname__\u001b[39m\u001b[38;5;132;01m}\u001b[39;00m\u001b[38;5;124m must be\u001b[39m\u001b[38;5;124m\"\u001b[39m,\n\u001b[1;32m    220\u001b[0m         \u001b[38;5;28mstr\u001b[39m(e),\n\u001b[1;32m    221\u001b[0m     )\n",
      "File \u001b[0;32m~/Documents/MLProjects/MLOps/myenv/lib/python3.9/site-packages/sklearn/metrics/pairwise.py:1585\u001b[0m, in \u001b[0;36mcosine_similarity\u001b[0;34m(X, Y, dense_output)\u001b[0m\n\u001b[1;32m   1582\u001b[0m \u001b[38;5;28;01melse\u001b[39;00m:\n\u001b[1;32m   1583\u001b[0m     Y_normalized \u001b[38;5;241m=\u001b[39m normalize(Y, copy\u001b[38;5;241m=\u001b[39m\u001b[38;5;28;01mTrue\u001b[39;00m)\n\u001b[0;32m-> 1585\u001b[0m K \u001b[38;5;241m=\u001b[39m \u001b[43msafe_sparse_dot\u001b[49m\u001b[43m(\u001b[49m\u001b[43mX_normalized\u001b[49m\u001b[43m,\u001b[49m\u001b[43m \u001b[49m\u001b[43mY_normalized\u001b[49m\u001b[38;5;241;43m.\u001b[39;49m\u001b[43mT\u001b[49m\u001b[43m,\u001b[49m\u001b[43m \u001b[49m\u001b[43mdense_output\u001b[49m\u001b[38;5;241;43m=\u001b[39;49m\u001b[43mdense_output\u001b[49m\u001b[43m)\u001b[49m\n\u001b[1;32m   1587\u001b[0m \u001b[38;5;28;01mreturn\u001b[39;00m K\n",
      "File \u001b[0;32m~/Documents/MLProjects/MLOps/myenv/lib/python3.9/site-packages/sklearn/utils/extmath.py:193\u001b[0m, in \u001b[0;36msafe_sparse_dot\u001b[0;34m(a, b, dense_output)\u001b[0m\n\u001b[1;32m    191\u001b[0m         ret \u001b[38;5;241m=\u001b[39m np\u001b[38;5;241m.\u001b[39mdot(a, b)\n\u001b[1;32m    192\u001b[0m \u001b[38;5;28;01melse\u001b[39;00m:\n\u001b[0;32m--> 193\u001b[0m     ret \u001b[38;5;241m=\u001b[39m \u001b[43ma\u001b[49m\u001b[43m \u001b[49m\u001b[38;5;241;43m@\u001b[39;49m\u001b[43m \u001b[49m\u001b[43mb\u001b[49m\n\u001b[1;32m    195\u001b[0m \u001b[38;5;28;01mif\u001b[39;00m (\n\u001b[1;32m    196\u001b[0m     sparse\u001b[38;5;241m.\u001b[39missparse(a)\n\u001b[1;32m    197\u001b[0m     \u001b[38;5;129;01mand\u001b[39;00m sparse\u001b[38;5;241m.\u001b[39missparse(b)\n\u001b[1;32m    198\u001b[0m     \u001b[38;5;129;01mand\u001b[39;00m dense_output\n\u001b[1;32m    199\u001b[0m     \u001b[38;5;129;01mand\u001b[39;00m \u001b[38;5;28mhasattr\u001b[39m(ret, \u001b[38;5;124m\"\u001b[39m\u001b[38;5;124mtoarray\u001b[39m\u001b[38;5;124m\"\u001b[39m)\n\u001b[1;32m    200\u001b[0m ):\n\u001b[1;32m    201\u001b[0m     \u001b[38;5;28;01mreturn\u001b[39;00m ret\u001b[38;5;241m.\u001b[39mtoarray()\n",
      "File \u001b[0;32m~/Documents/MLProjects/MLOps/myenv/lib/python3.9/site-packages/scipy/sparse/_base.py:695\u001b[0m, in \u001b[0;36m_spbase.__matmul__\u001b[0;34m(self, other)\u001b[0m\n\u001b[1;32m    692\u001b[0m \u001b[38;5;28;01mif\u001b[39;00m isscalarlike(other):\n\u001b[1;32m    693\u001b[0m     \u001b[38;5;28;01mraise\u001b[39;00m \u001b[38;5;167;01mValueError\u001b[39;00m(\u001b[38;5;124m\"\u001b[39m\u001b[38;5;124mScalar operands are not allowed, \u001b[39m\u001b[38;5;124m\"\u001b[39m\n\u001b[1;32m    694\u001b[0m                      \u001b[38;5;124m\"\u001b[39m\u001b[38;5;124muse \u001b[39m\u001b[38;5;124m'\u001b[39m\u001b[38;5;124m*\u001b[39m\u001b[38;5;124m'\u001b[39m\u001b[38;5;124m instead\u001b[39m\u001b[38;5;124m\"\u001b[39m)\n\u001b[0;32m--> 695\u001b[0m \u001b[38;5;28;01mreturn\u001b[39;00m \u001b[38;5;28;43mself\u001b[39;49m\u001b[38;5;241;43m.\u001b[39;49m\u001b[43m_matmul_dispatch\u001b[49m\u001b[43m(\u001b[49m\u001b[43mother\u001b[49m\u001b[43m)\u001b[49m\n",
      "File \u001b[0;32m~/Documents/MLProjects/MLOps/myenv/lib/python3.9/site-packages/scipy/sparse/_base.py:606\u001b[0m, in \u001b[0;36m_spbase._matmul_dispatch\u001b[0;34m(self, other)\u001b[0m\n\u001b[1;32m    604\u001b[0m     \u001b[38;5;28;01mif\u001b[39;00m other\u001b[38;5;241m.\u001b[39mndim \u001b[38;5;241m==\u001b[39m \u001b[38;5;241m1\u001b[39m:\n\u001b[1;32m    605\u001b[0m         \u001b[38;5;28;01mraise\u001b[39;00m \u001b[38;5;167;01mValueError\u001b[39;00m(\u001b[38;5;124m'\u001b[39m\u001b[38;5;124mCannot yet multiply a 1d sparse array\u001b[39m\u001b[38;5;124m'\u001b[39m)\n\u001b[0;32m--> 606\u001b[0m     \u001b[38;5;28;01mreturn\u001b[39;00m \u001b[38;5;28;43mself\u001b[39;49m\u001b[38;5;241;43m.\u001b[39;49m\u001b[43m_matmul_sparse\u001b[49m\u001b[43m(\u001b[49m\u001b[43mother\u001b[49m\u001b[43m)\u001b[49m\n\u001b[1;32m    608\u001b[0m \u001b[38;5;66;03m# If it's a list or whatever, treat it like an array\u001b[39;00m\n\u001b[1;32m    609\u001b[0m other_a \u001b[38;5;241m=\u001b[39m np\u001b[38;5;241m.\u001b[39masanyarray(other)\n",
      "File \u001b[0;32m~/Documents/MLProjects/MLOps/myenv/lib/python3.9/site-packages/scipy/sparse/_compressed.py:514\u001b[0m, in \u001b[0;36m_cs_matrix._matmul_sparse\u001b[0;34m(self, other)\u001b[0m\n\u001b[1;32m    511\u001b[0m K2, N \u001b[38;5;241m=\u001b[39m other\u001b[38;5;241m.\u001b[39mshape\n\u001b[1;32m    513\u001b[0m major_axis \u001b[38;5;241m=\u001b[39m \u001b[38;5;28mself\u001b[39m\u001b[38;5;241m.\u001b[39m_swap((M, N))[\u001b[38;5;241m0\u001b[39m]\n\u001b[0;32m--> 514\u001b[0m other \u001b[38;5;241m=\u001b[39m \u001b[38;5;28;43mself\u001b[39;49m\u001b[38;5;241;43m.\u001b[39;49m\u001b[38;5;18;43m__class__\u001b[39;49m\u001b[43m(\u001b[49m\u001b[43mother\u001b[49m\u001b[43m)\u001b[49m  \u001b[38;5;66;03m# convert to this format\u001b[39;00m\n\u001b[1;32m    516\u001b[0m idx_dtype \u001b[38;5;241m=\u001b[39m \u001b[38;5;28mself\u001b[39m\u001b[38;5;241m.\u001b[39m_get_index_dtype((\u001b[38;5;28mself\u001b[39m\u001b[38;5;241m.\u001b[39mindptr, \u001b[38;5;28mself\u001b[39m\u001b[38;5;241m.\u001b[39mindices,\n\u001b[1;32m    517\u001b[0m                              other\u001b[38;5;241m.\u001b[39mindptr, other\u001b[38;5;241m.\u001b[39mindices))\n\u001b[1;32m    519\u001b[0m fn \u001b[38;5;241m=\u001b[39m \u001b[38;5;28mgetattr\u001b[39m(_sparsetools, \u001b[38;5;28mself\u001b[39m\u001b[38;5;241m.\u001b[39mformat \u001b[38;5;241m+\u001b[39m \u001b[38;5;124m'\u001b[39m\u001b[38;5;124m_matmat_maxnnz\u001b[39m\u001b[38;5;124m'\u001b[39m)\n",
      "File \u001b[0;32m~/Documents/MLProjects/MLOps/myenv/lib/python3.9/site-packages/scipy/sparse/_compressed.py:34\u001b[0m, in \u001b[0;36m_cs_matrix.__init__\u001b[0;34m(self, arg1, shape, dtype, copy)\u001b[0m\n\u001b[1;32m     32\u001b[0m         arg1 \u001b[38;5;241m=\u001b[39m arg1\u001b[38;5;241m.\u001b[39mcopy()\n\u001b[1;32m     33\u001b[0m     \u001b[38;5;28;01melse\u001b[39;00m:\n\u001b[0;32m---> 34\u001b[0m         arg1 \u001b[38;5;241m=\u001b[39m \u001b[43marg1\u001b[49m\u001b[38;5;241;43m.\u001b[39;49m\u001b[43masformat\u001b[49m\u001b[43m(\u001b[49m\u001b[38;5;28;43mself\u001b[39;49m\u001b[38;5;241;43m.\u001b[39;49m\u001b[43mformat\u001b[49m\u001b[43m)\u001b[49m\n\u001b[1;32m     35\u001b[0m     \u001b[38;5;28mself\u001b[39m\u001b[38;5;241m.\u001b[39mindptr, \u001b[38;5;28mself\u001b[39m\u001b[38;5;241m.\u001b[39mindices, \u001b[38;5;28mself\u001b[39m\u001b[38;5;241m.\u001b[39mdata, \u001b[38;5;28mself\u001b[39m\u001b[38;5;241m.\u001b[39m_shape \u001b[38;5;241m=\u001b[39m (\n\u001b[1;32m     36\u001b[0m         arg1\u001b[38;5;241m.\u001b[39mindptr, arg1\u001b[38;5;241m.\u001b[39mindices, arg1\u001b[38;5;241m.\u001b[39mdata, arg1\u001b[38;5;241m.\u001b[39m_shape\n\u001b[1;32m     37\u001b[0m     )\n\u001b[1;32m     39\u001b[0m \u001b[38;5;28;01melif\u001b[39;00m \u001b[38;5;28misinstance\u001b[39m(arg1, \u001b[38;5;28mtuple\u001b[39m):\n",
      "File \u001b[0;32m~/Documents/MLProjects/MLOps/myenv/lib/python3.9/site-packages/scipy/sparse/_base.py:435\u001b[0m, in \u001b[0;36m_spbase.asformat\u001b[0;34m(self, format, copy)\u001b[0m\n\u001b[1;32m    433\u001b[0m \u001b[38;5;66;03m# Forward the copy kwarg, if it's accepted.\u001b[39;00m\n\u001b[1;32m    434\u001b[0m \u001b[38;5;28;01mtry\u001b[39;00m:\n\u001b[0;32m--> 435\u001b[0m     \u001b[38;5;28;01mreturn\u001b[39;00m \u001b[43mconvert_method\u001b[49m\u001b[43m(\u001b[49m\u001b[43mcopy\u001b[49m\u001b[38;5;241;43m=\u001b[39;49m\u001b[43mcopy\u001b[49m\u001b[43m)\u001b[49m\n\u001b[1;32m    436\u001b[0m \u001b[38;5;28;01mexcept\u001b[39;00m \u001b[38;5;167;01mTypeError\u001b[39;00m:\n\u001b[1;32m    437\u001b[0m     \u001b[38;5;28;01mreturn\u001b[39;00m convert_method()\n",
      "File \u001b[0;32m~/Documents/MLProjects/MLOps/myenv/lib/python3.9/site-packages/scipy/sparse/_csc.py:52\u001b[0m, in \u001b[0;36m_csc_base.tocsr\u001b[0;34m(self, copy)\u001b[0m\n\u001b[1;32m     49\u001b[0m indices \u001b[38;5;241m=\u001b[39m np\u001b[38;5;241m.\u001b[39mempty(\u001b[38;5;28mself\u001b[39m\u001b[38;5;241m.\u001b[39mnnz, dtype\u001b[38;5;241m=\u001b[39midx_dtype)\n\u001b[1;32m     50\u001b[0m data \u001b[38;5;241m=\u001b[39m np\u001b[38;5;241m.\u001b[39mempty(\u001b[38;5;28mself\u001b[39m\u001b[38;5;241m.\u001b[39mnnz, dtype\u001b[38;5;241m=\u001b[39mupcast(\u001b[38;5;28mself\u001b[39m\u001b[38;5;241m.\u001b[39mdtype))\n\u001b[0;32m---> 52\u001b[0m \u001b[43mcsc_tocsr\u001b[49m\u001b[43m(\u001b[49m\u001b[43mM\u001b[49m\u001b[43m,\u001b[49m\u001b[43m \u001b[49m\u001b[43mN\u001b[49m\u001b[43m,\u001b[49m\n\u001b[1;32m     53\u001b[0m \u001b[43m          \u001b[49m\u001b[38;5;28;43mself\u001b[39;49m\u001b[38;5;241;43m.\u001b[39;49m\u001b[43mindptr\u001b[49m\u001b[38;5;241;43m.\u001b[39;49m\u001b[43mastype\u001b[49m\u001b[43m(\u001b[49m\u001b[43midx_dtype\u001b[49m\u001b[43m)\u001b[49m\u001b[43m,\u001b[49m\n\u001b[1;32m     54\u001b[0m \u001b[43m          \u001b[49m\u001b[38;5;28;43mself\u001b[39;49m\u001b[38;5;241;43m.\u001b[39;49m\u001b[43mindices\u001b[49m\u001b[38;5;241;43m.\u001b[39;49m\u001b[43mastype\u001b[49m\u001b[43m(\u001b[49m\u001b[43midx_dtype\u001b[49m\u001b[43m)\u001b[49m\u001b[43m,\u001b[49m\n\u001b[1;32m     55\u001b[0m \u001b[43m          \u001b[49m\u001b[38;5;28;43mself\u001b[39;49m\u001b[38;5;241;43m.\u001b[39;49m\u001b[43mdata\u001b[49m\u001b[43m,\u001b[49m\n\u001b[1;32m     56\u001b[0m \u001b[43m          \u001b[49m\u001b[43mindptr\u001b[49m\u001b[43m,\u001b[49m\n\u001b[1;32m     57\u001b[0m \u001b[43m          \u001b[49m\u001b[43mindices\u001b[49m\u001b[43m,\u001b[49m\n\u001b[1;32m     58\u001b[0m \u001b[43m          \u001b[49m\u001b[43mdata\u001b[49m\u001b[43m)\u001b[49m\n\u001b[1;32m     60\u001b[0m A \u001b[38;5;241m=\u001b[39m \u001b[38;5;28mself\u001b[39m\u001b[38;5;241m.\u001b[39m_csr_container(\n\u001b[1;32m     61\u001b[0m     (data, indices, indptr),\n\u001b[1;32m     62\u001b[0m     shape\u001b[38;5;241m=\u001b[39m\u001b[38;5;28mself\u001b[39m\u001b[38;5;241m.\u001b[39mshape, copy\u001b[38;5;241m=\u001b[39m\u001b[38;5;28;01mFalse\u001b[39;00m\n\u001b[1;32m     63\u001b[0m )\n\u001b[1;32m     64\u001b[0m A\u001b[38;5;241m.\u001b[39mhas_sorted_indices \u001b[38;5;241m=\u001b[39m \u001b[38;5;28;01mTrue\u001b[39;00m\n",
      "\u001b[0;31mKeyboardInterrupt\u001b[0m: "
     ]
    }
   ],
   "source": [
    "known_user_metrics = []\n",
    "for user_id in tqdm(known_users_filtered[0:100]):\n",
    "    recommended_items = get_weighted_recommendations(*get_recommendations(user_id), N=10)\n",
    "    precision = calculate_precision(user_id, recommended_items, test_df)\n",
    "    recall = calculate_recall(user_id, recommended_items, test_df)\n",
    "    f1 = calculate_f1_score(user_id, recommended_items, test_df)\n",
    "    hit = calculate_hit_ratio(user_id, recommended_items, test_df)\n",
    "    known_user_metrics.append((user_id, precision, recall, f1, hit))"
   ]
  },
  {
   "cell_type": "code",
   "execution_count": null,
   "id": "aeef1dcc",
   "metadata": {},
   "outputs": [
    {
     "name": "stdout",
     "output_type": "stream",
     "text": [
      "Metriche per gli utenti noti:\n",
      "Precisione media: 0.0250\n",
      "Recall medio: 0.0166\n",
      "F1-Score medio: 0.0187\n",
      "Hit Ratio medio: 0.2100\n"
     ]
    }
   ],
   "source": [
    "# Calcola la media delle metriche per gli utenti noti\n",
    "if len(known_user_metrics) > 0:\n",
    "    avg_precision_known = np.mean([metric[1] for metric in known_user_metrics])\n",
    "    avg_recall_known = np.mean([metric[2] for metric in known_user_metrics])\n",
    "    avg_f1_known = np.mean([metric[3] for metric in known_user_metrics])\n",
    "    avg_hit_known = np.mean([metric[4] for metric in known_user_metrics])\n",
    "else:\n",
    "    avg_precision_known, avg_recall_known, avg_f1_known = 0, 0, 0\n",
    "\n",
    "# Stampa i risultati per gli utenti noti\n",
    "print(\"Metriche per gli utenti noti:\")\n",
    "print(f\"Precisione media: {avg_precision_known:.4f}\")\n",
    "print(f\"Recall medio: {avg_recall_known:.4f}\")\n",
    "print(f\"F1-Score medio: {avg_f1_known:.4f}\")\n",
    "print(f\"Hit Ratio medio: {avg_hit_known:.4f}\")"
   ]
  },
  {
   "cell_type": "code",
   "execution_count": 79,
   "id": "b345694d",
   "metadata": {},
   "outputs": [
    {
     "data": {
      "text/plain": [
       "[(631510, 0.2761158407133337),\n",
       " (1817070, 0.2368065129442754),\n",
       " (941962, 0.23023168637136077),\n",
       " (1050460, 0.22192544912770198),\n",
       " (705710, 0.22120711977681312),\n",
       " (941965, 0.2034982293295735),\n",
       " (941952, 0.1923838099822468),\n",
       " (941966, 0.19116368590886723),\n",
       " (941961, 0.19021823533549728),\n",
       " (223790, 0.18888936157904204)]"
      ]
     },
     "execution_count": 79,
     "metadata": {},
     "output_type": "execute_result"
    }
   ],
   "source": [
    "cold_user = cold_start_users[10]\n",
    "recommended_items = get_weighted_recommendations(*get_recommendations(cold_user, mode='inference'), N=10)\n",
    "recommended_items"
   ]
  },
  {
   "cell_type": "code",
   "execution_count": null,
   "id": "68ecadfd",
   "metadata": {},
   "outputs": [],
   "source": []
  }
 ],
 "metadata": {
  "kernelspec": {
   "display_name": "myenv",
   "language": "python",
   "name": "python3"
  },
  "language_info": {
   "codemirror_mode": {
    "name": "ipython",
    "version": 3
   },
   "file_extension": ".py",
   "mimetype": "text/x-python",
   "name": "python",
   "nbconvert_exporter": "python",
   "pygments_lexer": "ipython3",
   "version": "3.9.6"
  }
 },
 "nbformat": 4,
 "nbformat_minor": 5
}
